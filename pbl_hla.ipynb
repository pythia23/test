{
  "nbformat": 4,
  "nbformat_minor": 0,
  "metadata": {
    "colab": {
      "name": "Untitled0.ipynb",
      "provenance": [],
      "authorship_tag": "ABX9TyPnNUj98sAwBLW7SRSmqNZP",
      "include_colab_link": true
    },
    "kernelspec": {
      "name": "python3",
      "display_name": "Python 3"
    },
    "language_info": {
      "name": "python"
    }
  },
  "cells": [
    {
      "cell_type": "markdown",
      "metadata": {
        "id": "view-in-github",
        "colab_type": "text"
      },
      "source": [
        "<a href=\"https://colab.research.google.com/github/pythia23/test/blob/main/pbl_hla.ipynb\" target=\"_parent\"><img src=\"https://colab.research.google.com/assets/colab-badge.svg\" alt=\"Open In Colab\"/></a>"
      ]
    },
    {
      "cell_type": "code",
      "metadata": {
        "colab": {
          "base_uri": "https://localhost:8080/"
        },
        "id": "HtMH1n4FIbdJ",
        "outputId": "21a262c5-ee34-4ef9-e9d6-b1aef3b788bc"
      },
      "source": [
        "#HLA class 1 alleles: A, B, C\n",
        "#Each HLA class I molecule consists of 1 alpha chain and 1 invariant beta microglobuliin\n",
        "hla_a=4264\n",
        "print(\"Number of possible HLA-A molecules = \" + str(hla_a))\n",
        "hla_b=5240\n",
        "print(\"Number of possible HLA-B molecules = \" + str(hla_b))\n",
        "hla_c=3953\n",
        "print(\"Number of possible HLA-C molecules = \" + str(hla_c))\n",
        "\n",
        "hla1_variants=hla_a+hla_b+hla_c\n",
        "hla1_variants_scientific=\"{0:.2E}\".format(hla1_variants)\n",
        "hla1_haplotypes=hla_a*hla_b*hla_c\n",
        "hla1_haplotypes_scientific=\"{0:.2E}\".format(hla1_haplotypes)\n",
        "print(\"Number of possible HLA class 1 molecules= \" + str(hla1_variants))\n",
        "print(\"Number of possible HLA class 1 haplotypes = \" + str(hla1_haplotypes_scientific))\n",
        "\n",
        "#HLA class 2 alleles: DR, DQ, DP\n",
        "#HLA-DR (DRA is invariant, all have DRB1, some may have 1 of DRB3-5)\n",
        "hla_dra=1\n",
        "hla_drb1=2079\n",
        "hla_drb2=0\n",
        "hla_drb3=306\n",
        "hla_drb4=134\n",
        "hla_drb5=125\n",
        "hla_drb6=0\n",
        "hla_drb7=0\n",
        "hla_drb8=0\n",
        "hla_drb9=0\n",
        "\n",
        "hla_dr_variants=hla_dra*(hla_drb1*(hla_drb2+hla_drb3+hla_drb4+hla_drb5))\n",
        "print(\"Number of possible HLA-DR molecules = \" + str(hla_dr_variants))\n",
        "\n",
        "#HLA-DQ\n",
        "hla_dqa1=185\n",
        "hla_dqa2=0\n",
        "hla_dqb1=1366\n",
        "\n",
        "hla_dq_variants=(hla_dqa1+hla_dqa2)*hla_dqb1\n",
        "print(\"Number of possible HLA-DQ molecules = \" + str(hla_dq_variants))\n",
        "\n",
        "#HLA-DP\n",
        "hla_dpa1=147\n",
        "hla_dpa2=0\n",
        "hla_dpb1=1189\n",
        "hla_dpb2=0\n",
        "hla_dp_variants=(hla_dpa1+hla_dpa2)*(hla_dpb1+hla_dpb2)\n",
        "print(\"Number of possible HLA-DQ molecules = \" + str(hla_dp_variants))\n",
        "\n",
        "\n",
        "hla2_variants=hla_dr_variants+hla_dq_variants+hla_dp_variants\n",
        "hla2_variants_scientific=\"{0:.2E}\".format(hla2_variants)\n",
        "hla2_haplotypes=hla_dr_variants*hla_dq_variants*hla_dp_variants\n",
        "hla2_haplotypes_scientific=\"{0:.2E}\".format(hla2_haplotypes)\n",
        "print(\"Number of possible HLA class 2 molecules= \" + str(hla2_variants))\n",
        "print(\"Number of possible HLA class 2 molecules= \" + str(hla2_variants_scientific))\n",
        "print(\"Number of possible HLA class 2 haplotypes = \" + str(hla2_haplotypes_scientific))\n"
      ],
      "execution_count": 1,
      "outputs": [
        {
          "output_type": "stream",
          "name": "stdout",
          "text": [
            "Number of possible HLA-A molecules = 4264\n",
            "Number of possible HLA-B molecules = 5240\n",
            "Number of possible HLA-C molecules = 3953\n",
            "Number of possible HLA class 1 molecules= 13457\n",
            "Number of possible HLA class 1 haplotypes = 8.83E+10\n",
            "Number of possible HLA-DR molecules = 1174635\n",
            "Number of possible HLA-DQ molecules = 252710\n",
            "Number of possible HLA-DQ molecules = 174783\n",
            "Number of possible HLA class 2 molecules= 1602128\n",
            "Number of possible HLA class 2 molecules= 1.60E+06\n",
            "Number of possible HLA class 2 haplotypes = 5.19E+16\n"
          ]
        }
      ]
    },
    {
      "cell_type": "code",
      "metadata": {
        "id": "NDYkTa4DId20"
      },
      "source": [
        ""
      ],
      "execution_count": null,
      "outputs": []
    }
  ]
}